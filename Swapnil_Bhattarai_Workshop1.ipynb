{
  "nbformat": 4,
  "nbformat_minor": 0,
  "metadata": {
    "colab": {
      "provenance": []
    },
    "kernelspec": {
      "name": "python3",
      "display_name": "Python 3"
    },
    "language_info": {
      "name": "python"
    }
  },
  "cells": [
    {
      "cell_type": "markdown",
      "source": [
        "Problem - 1: Array Creation:\n",
        "Complete the following Tasks:\n",
        "1. Initialize an empty array with size 2X2.\n",
        "2. Initialize an all one array with size 4X2.\n",
        "3. Return a new array of given shape and type, filled with fill value.{Hint: np.full}\n",
        "4. Return a new array of zeros with same shape and type as a given array.{Hint: np.zeros like}\n",
        "5. Return a new array of ones with same shape and type as a given array.{Hint: np.ones like}\n",
        "6. For an existing list new_list = [1,2,3,4] convert to an numpy array.{Hint: np.array()}"
      ],
      "metadata": {
        "id": "2aKGeijJmcQI"
      }
    },
    {
      "cell_type": "code",
      "execution_count": null,
      "metadata": {
        "colab": {
          "base_uri": "https://localhost:8080/"
        },
        "id": "kNJjRKEimZNZ",
        "outputId": "b00c92fc-b315-455c-da7f-cb4643462431"
      },
      "outputs": [
        {
          "output_type": "stream",
          "name": "stdout",
          "text": [
            "[[0. 0.]\n",
            " [0. 0.]]\n",
            "[[1. 1.]\n",
            " [1. 1.]\n",
            " [1. 1.]\n",
            " [1. 1.]]\n",
            "[[17 17 17 17]\n",
            " [17 17 17 17]]\n",
            "[[0 0]\n",
            " [0 0]]\n",
            "[[1 1]\n",
            " [1 1]]\n",
            "[1 2 3 4]\n"
          ]
        }
      ],
      "source": [
        "import numpy as np\n",
        "\n",
        "#1 initializing an empty array\n",
        "empty_array = np.empty((2,2))\n",
        "print(empty_array)\n",
        "\n",
        "#2 initializing all ones array\n",
        "ones_array = np.ones((4,2))\n",
        "print(ones_array)\n",
        "\n",
        "#3 returning a new array of given shape and type using fill value\n",
        "fill_value = 17\n",
        "filled_array = np.full((2,4), fill_value)\n",
        "print(filled_array)\n",
        "\n",
        "#4 returning a new array of zeros\n",
        "given_array = np.array([[1, 2], [3, 4]])\n",
        "zeros_like_array = np.zeros_like(given_array)\n",
        "print(zeros_like_array)\n",
        "\n",
        "#5 returning a new array of ones\n",
        "given_array = np.array([[1, 2], [3, 4]])\n",
        "ones_like_array = np.ones_like(given_array)\n",
        "print(ones_like_array)\n",
        "\n",
        "#6 Convert an existing list to a NumPy array\n",
        "new_list = [1, 2, 3, 4]\n",
        "numpy_array = np.array(new_list)\n",
        "print(numpy_array)"
      ]
    },
    {
      "cell_type": "markdown",
      "source": [
        "Complete the following tasks:\n",
        "1. Create an array with values ranging from 10 to 49. {Hint:np.arrange()}.\n",
        "2. Create a 3X3 matrix with values ranging from 0 to 8.\n",
        "{Hint:look for np.reshape()}\n",
        "3. Create a 3X3 identity matrix.{Hint:np.eye()}\n",
        "4. Create a random array of size 30 and find the mean of the array.\n",
        "{Hint:check for np.random.random() and array.mean() function}\n",
        "5. Create a 10X10 array with random values and find the minimum and maximum values.\n",
        "6. Create a zero array of size 10 and replace 5th element with 1.\n",
        "7. Reverse an array arr = [1,2,0,0,4,0].\n",
        "8. Create a 2d array with 1 on border and 0 inside.\n",
        "9. Create a 8X8 matrix and fill it with a checkerboard pattern."
      ],
      "metadata": {
        "id": "f_7ibe5_qDQR"
      }
    },
    {
      "cell_type": "code",
      "source": [
        "import numpy as np\n",
        "\n",
        "#1 creating an array with values ranging from 10 to 49\n",
        "array_of_range = np.arange(10, 50)\n",
        "print(array_of_range)\n",
        "\n",
        "#2 creating a 3x3 matrix with values ranging from 0 to 8\n",
        "matrix_3x3 = np.arange(9).reshape(3, 3)\n",
        "print(matrix_3x3)\n",
        "\n",
        "#3 creating a 3x3 identity matrix\n",
        "identity_matrix = np.eye(3)\n",
        "print(identity_matrix)\n",
        "\n",
        "#4 Creating a random array of size 30 and find the mean\n",
        "random_array = np.random.random(30)\n",
        "mean_value = random_array.mean()\n",
        "print(\"Random Array of size 30:\", random_array)\n",
        "print(\"Mean of the array:\", mean_value)\n",
        "\n",
        "#5 Creating a 10x10 array with random values and find min & max\n",
        "random_10x10 = np.random.random((10, 10))\n",
        "min_value = random_10x10.min()\n",
        "max_value = random_10x10.max()\n",
        "print(\"\\n10x10 Random Array:\\n\", random_10x10)\n",
        "print(\"Minimum value:\", min_value)\n",
        "print(\"Maximum value:\", max_value)\n",
        "\n",
        "#6 creating a zero array of size 10 and replace the 5th element with 1\n",
        "zero_array = np.zeros(10)\n",
        "zero_array[4] = 1  # Replacing the 5th element\n",
        "print(zero_array)\n",
        "\n",
        "#7 reversing an array arr = [1, 2, 0, 0, 4, 0]\n",
        "arr = np.array([1, 2, 0, 0, 4, 0])\n",
        "reversed_array = arr[::-1]\n",
        "print(reversed_array)\n",
        "\n",
        "#8 creating a 2D array with 1 on the border and 0 inside\n",
        "border_array = np.ones((5, 5))\n",
        "border_array[1:-1, 1:-1] = 0\n",
        "print(border_array)\n",
        "\n",
        "#9 creating an 8x8 matrix with a checkerboard pattern\n",
        "checkerboard = np.zeros((8, 8), dtype=int)\n",
        "checkerboard[1::2, ::2] = 1\n",
        "checkerboard[::2, 1::2] = 1\n",
        "print(checkerboard)\n"
      ],
      "metadata": {
        "colab": {
          "base_uri": "https://localhost:8080/"
        },
        "id": "yEzJv9Lop9F4",
        "outputId": "bddc613c-5d1a-4d49-cee9-739e2123cb32"
      },
      "execution_count": null,
      "outputs": [
        {
          "output_type": "stream",
          "name": "stdout",
          "text": [
            "[10 11 12 13 14 15 16 17 18 19 20 21 22 23 24 25 26 27 28 29 30 31 32 33\n",
            " 34 35 36 37 38 39 40 41 42 43 44 45 46 47 48 49]\n",
            "[[0 1 2]\n",
            " [3 4 5]\n",
            " [6 7 8]]\n",
            "[[1. 0. 0.]\n",
            " [0. 1. 0.]\n",
            " [0. 0. 1.]]\n",
            "Random Array of size 30: [0.01570901 0.4666976  0.80611811 0.72157588 0.1436184  0.89802717\n",
            " 0.93244643 0.76351495 0.80755011 0.36865613 0.12682559 0.84018795\n",
            " 0.14151461 0.59502517 0.30649237 0.83815846 0.41337747 0.08977313\n",
            " 0.95914526 0.23414596 0.35667821 0.81136076 0.79216948 0.76121138\n",
            " 0.96268417 0.49947367 0.01092732 0.30872246 0.1228072  0.89082481]\n",
            "Mean of the array: 0.5328473080374486\n",
            "\n",
            "10x10 Random Array:\n",
            " [[0.69237426 0.28060444 0.51726065 0.56402204 0.43651597 0.88238809\n",
            "  0.41776337 0.27947003 0.97666295 0.02895451]\n",
            " [0.42294076 0.08151732 0.33666862 0.27077657 0.76211125 0.62678891\n",
            "  0.67441211 0.48789786 0.24991031 0.76128077]\n",
            " [0.09463299 0.59949131 0.45183835 0.06414024 0.35279657 0.01130036\n",
            "  0.65554605 0.71617402 0.6337301  0.74356166]\n",
            " [0.59230473 0.70824648 0.40791059 0.08230559 0.40349703 0.36130106\n",
            "  0.54673616 0.23592504 0.52266655 0.87213078]\n",
            " [0.39234678 0.90736785 0.86820581 0.69324913 0.84116673 0.74339791\n",
            "  0.23268428 0.07587154 0.33982753 0.24458347]\n",
            " [0.33291204 0.46201419 0.49272138 0.79135598 0.97846775 0.25368888\n",
            "  0.20277075 0.84072548 0.15370682 0.8367838 ]\n",
            " [0.24774669 0.05666923 0.43338136 0.86272349 0.08505894 0.31797052\n",
            "  0.92808549 0.39535225 0.70184378 0.88997802]\n",
            " [0.74885537 0.38950511 0.01628941 0.19411078 0.46800144 0.25198785\n",
            "  0.90632835 0.97637994 0.62348474 0.07422687]\n",
            " [0.11568646 0.07234585 0.34321269 0.83692018 0.57558789 0.74027541\n",
            "  0.66581971 0.81681879 0.64981047 0.84889622]\n",
            " [0.30766404 0.40001189 0.54706001 0.3807155  0.70247922 0.45506192\n",
            "  0.58717042 0.44888494 0.11792537 0.65626578]]\n",
            "Minimum value: 0.01130036188319683\n",
            "Maximum value: 0.9784677542556757\n",
            "[0. 0. 0. 0. 1. 0. 0. 0. 0. 0.]\n",
            "[0 4 0 0 2 1]\n",
            "[[1. 1. 1. 1. 1.]\n",
            " [1. 0. 0. 0. 1.]\n",
            " [1. 0. 0. 0. 1.]\n",
            " [1. 0. 0. 0. 1.]\n",
            " [1. 1. 1. 1. 1.]]\n",
            "[[0 1 0 1 0 1 0 1]\n",
            " [1 0 1 0 1 0 1 0]\n",
            " [0 1 0 1 0 1 0 1]\n",
            " [1 0 1 0 1 0 1 0]\n",
            " [0 1 0 1 0 1 0 1]\n",
            " [1 0 1 0 1 0 1 0]\n",
            " [0 1 0 1 0 1 0 1]\n",
            " [1 0 1 0 1 0 1 0]]\n"
          ]
        }
      ]
    },
    {
      "cell_type": "markdown",
      "source": [
        "For the following arrays:\n",
        "x = np.array([[1,2],[3,5]]) and y = np.array([[5,6],[7,8]]);\n",
        "v = np.array([9,10]) and w = np.array([11,12]);\n",
        "Complete all the task using numpy:\n",
        "1. Add the two array.\n",
        "2. Subtract the two array.\n",
        "3. Multiply the array with any integers of your choice.\n",
        "4. Find the square of each element of the array.\n",
        "5. Find the dot product between: v(and)w ; x(and)v ; x(and)y.\n",
        "6. Concatenate x(and)y along row and Concatenate v(and)w along column.\n",
        "{Hint:try np.concatenate() or np.vstack() functions.\n",
        "7. Concatenate x(and)v; if you get an error, observe and explain why did you get the error?"
      ],
      "metadata": {
        "id": "N3w8BlXbqIiG"
      }
    },
    {
      "cell_type": "code",
      "source": [
        "import numpy as np\n",
        "\n",
        "x = np.array([[1, 2], [3, 5]])\n",
        "y = np.array([[5, 6], [7, 8]])\n",
        "v = np.array([9, 10])\n",
        "w = np.array([11, 12])\n",
        "\n",
        "#adding the two arrays\n",
        "array_add = x + y\n",
        "print(array_add)\n",
        "\n",
        "#substracting the two arrays\n",
        "array_sub = x - y\n",
        "print(array_sub)\n",
        "\n",
        "#multiplying the array with a number eg- 2\n",
        "array_mul = x * 2\n",
        "print(array_mul)\n",
        "\n",
        "# Find the square of each element of the array.\n",
        "sqr_arr_y = np.power(y, 2)\n",
        "print(\"Square of array y is: \\n\", sqr_arr_y)\n",
        "\n",
        "# Find the dot product between: v(and)w ; x(and)v ; x(and)y.\n",
        "dot_x_y = np.dot(x,y)\n",
        "dot_v_w = np.dot(v,w)\n",
        "dot_x_v = np.dot(x,v)\n",
        "print(\"Dot product of x and y: \\n\", dot_x_y)\n",
        "print(\"Dot product of v and w: \\n\", dot_v_w)\n",
        "print(\"Dot product of x and v: \\n\", dot_x_v)\n",
        "\n",
        "# Concatenate x(and)y along row and Concatenate v(and)w along column.\n",
        "concat_x_y = np.concatenate((x,y),axis=0)\n",
        "stack_x_y = np.vstack((x,y))\n",
        "\n",
        "stack_v_w = np.hstack((v,w))\n",
        "print(\"Concatination of x and y along row: \\n\", concat_x_y)\n",
        "print(\"Stacking of x and y along row: \\n\", stack_x_y)\n",
        "print(\"Stacking of v and w along row: \\n\", stack_v_w)\n",
        "\n",
        "#Concatenate x(and)v\n",
        "#concate_x_v = np.concatenate((x,v),axis=0)"
      ],
      "metadata": {
        "colab": {
          "base_uri": "https://localhost:8080/"
        },
        "id": "QR991rVqqJ1c",
        "outputId": "19b223af-7985-44fb-f823-4746da8c790e"
      },
      "execution_count": null,
      "outputs": [
        {
          "output_type": "stream",
          "name": "stdout",
          "text": [
            "[[ 6  8]\n",
            " [10 13]]\n",
            "[[-4 -4]\n",
            " [-4 -3]]\n",
            "[[ 2  4]\n",
            " [ 6 10]]\n",
            "Square of array y is: \n",
            " [[25 36]\n",
            " [49 64]]\n",
            "Dot product of x and y: \n",
            " [[19 22]\n",
            " [50 58]]\n",
            "Dot product of v and w: \n",
            " 219\n",
            "Dot product of x and v: \n",
            " [29 77]\n",
            "Concatination of x and y along row: \n",
            " [[1 2]\n",
            " [3 5]\n",
            " [5 6]\n",
            " [7 8]]\n",
            "Stacking of x and y along row: \n",
            " [[1 2]\n",
            " [3 5]\n",
            " [5 6]\n",
            " [7 8]]\n",
            "Stacking of v and w along row: \n",
            " [ 9 10 11 12]\n"
          ]
        }
      ]
    },
    {
      "cell_type": "markdown",
      "source": [
        "For the following arrays:\n",
        "A = np.array([[3,4],[7,8]]) and B = np.array([[5,3],[2,1]]);\n",
        "Prove following with Numpy:\n",
        "1. Prove A.A−1 = I.\n",
        "2. Prove AB ̸= BA.\n",
        "3. Prove (AB)T = BTAT\n",
        ".\n"
      ],
      "metadata": {
        "id": "58q_fWsIdiqJ"
      }
    },
    {
      "cell_type": "code",
      "source": [
        "import numpy as np\n",
        "\n",
        "A = np.array([[3,4],[7,8]])\n",
        "B = np.array([[5,3],[2,1]])\n",
        "\n",
        "# Prove A.A−1 = I.\n",
        "A_inverse = np.linalg.inv(A)\n",
        "\n",
        "mul_A_Ainv = np.dot(A, A_inverse)\n",
        "print(\"Multiplication of A and A_inverse: \\n\", mul_A_Ainv)\n",
        "idenity_matrix = np.eye(A.shape[0])\n",
        "print(\"Identity matrix: \\n\", idenity_matrix)\n",
        "\n",
        "is_identity = np.allclose(mul_A_Ainv, idenity_matrix)\n",
        "if(is_identity):\n",
        "    print(\"The matrix multiplication of A and its inverse is an Identity matrix or close to it.\")\n",
        "    print(\"Hence Proved.\")\n",
        "else:\n",
        "    print(\"Not Proved.\")\n",
        "\n",
        "# Prove AB ̸= BA.\n",
        "mul_AB = np.matmul(A,B)\n",
        "mul_BA = np.matmul(B,A)\n",
        "print(\"Multiplication of A and B: \\n\", mul_AB)\n",
        "print(\"Multiplication of B and A: \\n\", mul_BA)\n",
        "\n",
        "equal_mul = np.array_equal(mul_AB, mul_BA)\n",
        "if(not equal_mul):\n",
        "    print(\"The matrix multiplication of A and B is not equal to the matrix multiplication of B and A.\")\n",
        "    print(\"Hence Proved.\")\n",
        "else:\n",
        "    print(\"The matrix multiplication of A and B is equal to the matrix multiplication of b and A.\")\n",
        "    print(\"Not proved.\")\n",
        "\n",
        "# Prove (AB)T = BTAT\n",
        "A_transpose = np.transpose(A)\n",
        "B_transpose = np.transpose(B)\n",
        "AB_transpose = np.transpose(mul_AB)\n",
        "print(\"The Transpose of AB ((AB)T) is: \\n\", AB_transpose)\n",
        "B_trans_A_trans = np.matmul(B_transpose, A_transpose)\n",
        "print(\"The Transpose of B multiplied with Transpose of A (BTAT) is: \\n\", B_trans_A_trans)\n",
        "\n",
        "equal_trans = np.array_equal(AB_transpose, B_trans_A_trans)\n",
        "if(equal_trans):\n",
        "    print(\"The transpose of AB and transpose of B multiplied with transpose of A is equal.\")\n",
        "    print(\"Hence Proved.\")\n",
        "else:\n",
        "    print(\"Not Proved.\")"
      ],
      "metadata": {
        "id": "G8fYs-wfci1m"
      },
      "execution_count": null,
      "outputs": []
    },
    {
      "cell_type": "markdown",
      "source": [
        "\n",
        "• Solve the following system of Linear equation using Inverse Methods.\n",
        "\n",
        "2x − 3y + z = −1\n",
        "x − y + 2z = −3\n",
        "3x + y − z = 9\n",
        "\n",
        "{Hint: First use Numpy array to represent the equation in Matrix form. Then Solve for: AX = B}\n",
        "• Now: solve the above equation using np.linalg.inv function.{Explore more about ”linalg” function\n",
        "of Numpy}"
      ],
      "metadata": {
        "id": "jkS2NB3dqPEG"
      }
    },
    {
      "cell_type": "code",
      "source": [
        "import numpy as np\n",
        "\n",
        "# representing in augmented matrix form\n",
        "\n",
        "# Matrix of coefficients\n",
        "a = [\n",
        "    [2,-3,1],\n",
        "    [1,-1,2],\n",
        "    [3,1,-1]\n",
        "    ]\n",
        "A = np.array(a)\n",
        "\n",
        "# Matrix of constants\n",
        "b = [-1,-3,9]\n",
        "B = np.array(b)\n",
        "\n",
        "# Using inverse method\n",
        "A_inverse = np.linalg.inv(A)\n",
        "X = np.matmul(A_inverse, B)\n",
        "print(\"The value of x, y, z is: \\n\", X)\n"
      ],
      "metadata": {
        "colab": {
          "base_uri": "https://localhost:8080/"
        },
        "id": "DDxSTbgGdqGW",
        "outputId": "a71d3ac5-7868-4033-ee79-3e8978a2f8d0"
      },
      "execution_count": null,
      "outputs": [
        {
          "output_type": "stream",
          "name": "stdout",
          "text": [
            "The value of x, y, z is: \n",
            " [ 2.  1. -2.]\n"
          ]
        }
      ]
    },
    {
      "cell_type": "markdown",
      "source": [
        "Experiment: How Fast is Numpy?\n",
        "\n",
        "1. Element-wise Addition\n",
        "2. Element-wise Multiplication\n",
        "3. Dot Product\n",
        "4. Matrix Multiplication"
      ],
      "metadata": {
        "id": "_ontHqqGcjZw"
      }
    },
    {
      "cell_type": "code",
      "source": [
        "import numpy as np\n",
        "import random\n",
        "from timeit import timeit\n",
        "#Generating a larger random sample data\n",
        "size=1000000\n",
        "#Python lists\n",
        "Z1_list=random.sample(range(size+1),size)\n",
        "Z2_list=random.sample(range(size+1),size)\n",
        "#Numpy arrays\n",
        "Z1_arr=np.array(Z1_list)\n",
        "Z2_arr=np.array(Z2_list)\n",
        "\n",
        "#1. Element-wise addition\n",
        "def add_python(a,b):\n",
        "  return [A+B for A,B in zip(a,b)]\n",
        "def add_numpy(a,b):\n",
        "  return np.add(a,b)\n",
        "#Calculating the execution of each function\n",
        "python_addtime = timeit(\"add_python(Z1_list,Z2_list)\", globals=globals(), number=100)\n",
        "numpy_addtime = timeit(\"add_numpy (Z1_arr,Z2_arr)\", globals=globals(), number=100)\n",
        "print(f\"Pure Python addition:{python_addtime:.6f} seconds per loop\")\n",
        "print(f\"Numpy addition:{numpy_addtime:.6f} seconds per loop\")\n",
        "\n",
        "#2. Element-wise multiplication\n",
        "def multiply_python(a,b):\n",
        "  return [A*B for A,B in zip(a,b)]\n",
        "def multiply_numpy(a,b):\n",
        "  return a*b\n",
        "#Calculating the execution of each function\n",
        "python_multiplytime = timeit(\"multiply_python(Z1_list,Z2_list)\", globals=globals(), number=100)\n",
        "numpy_multiplytime = timeit(\"multiply_numpy (Z1_arr,Z2_arr)\", globals=globals(), number=100)\n",
        "print(f\"Pure Python multiplication:{python_multiplytime:.6f} seconds per loop\")\n",
        "print(f\"Numpy multiplication:{numpy_multiplytime:.6f} seconds per loop\")\n",
        "\n",
        "#3.Dot product\n",
        "def dot_python(a,b):\n",
        "  return sum([A*B for A,B in zip(a,b)])\n",
        "def dot_numpy(a,b):\n",
        "  return np.dot(a,b)\n",
        "#Calculating the execution of each function\n",
        "python_dottime = timeit(\"dot_python(Z1_list,Z2_list)\", globals=globals(), number=100)\n",
        "numpy_dottime = timeit(\"dot_numpy(Z1_arr,Z2_arr)\", globals=globals(), number=100)\n",
        "print(f\"Pure Python dot product:{python_dottime:.6f} seconds per loop\")\n",
        "print(f\"Numpy dot product:{numpy_dottime:.6f} seconds per loop\")\n",
        "\n",
        "\n",
        "# 4. Matrix Multiplication\n",
        "# Reshape into 2D arrays (e.g., 300 x 300 matrices)\n",
        "matrix_size =300 # Adjust as needed\n",
        "Z1_matrix_list = [Z1_list[i:i + matrix_size] for i in range(0, matrix_size ** 2, matrix_size)]\n",
        "Z2_matrix_list = [Z2_list[i:i + matrix_size] for i in range(0, matrix_size ** 2, matrix_size)]\n",
        "\n",
        "Z1_matrix_arr = np.array(Z1_matrix_list)\n",
        "Z2_matrix_arr = np.array(Z2_matrix_list)\n",
        "\n",
        "def matrix_python(a, b):\n",
        "    return [\n",
        "        [sum(A * B for A, B in zip(row_a, col_b)) for col_b in zip(*b)]\n",
        "        for row_a in a\n",
        "    ]\n",
        "\n",
        "def matrix_numpy(a, b):\n",
        "    return np.matmul(a, b)\n",
        "\n",
        "# Calculating the execution of each function\n",
        "python_matrix_time = timeit(\"matrix_python(Z1_matrix_list, Z2_matrix_list)\", globals=globals(), number=10)\n",
        "numpy_matrix_time = timeit(\"matrix_numpy(Z1_matrix_arr, Z2_matrix_arr)\", globals=globals(), number=10)\n",
        "\n",
        "print(f\"Pure Python matrix multiplication: {python_matrix_time:.6f} seconds per loop\")\n",
        "print(f\"NumPy matrix multiplication: {numpy_matrix_time:.6f} seconds per loop\")"
      ],
      "metadata": {
        "colab": {
          "base_uri": "https://localhost:8080/"
        },
        "id": "2RS0OA0Ld2JU",
        "outputId": "28da4af0-583e-4671-9927-7f00b9d4c23b"
      },
      "execution_count": null,
      "outputs": [
        {
          "output_type": "stream",
          "name": "stdout",
          "text": [
            "Pure Python addition:31.744825 seconds per loop\n",
            "Numpy addition:0.145801 seconds per loop\n",
            "Pure Python multiplication:31.061537 seconds per loop\n",
            "Numpy multiplication:0.120919 seconds per loop\n",
            "Pure Python dot product:33.035948 seconds per loop\n",
            "Numpy dot product:0.095977 seconds per loop\n",
            "Pure Python matrix multiplication: 74.033487 seconds per loop\n",
            "NumPy matrix multiplication: 0.275227 seconds per loop\n"
          ]
        }
      ]
    }
  ]
}